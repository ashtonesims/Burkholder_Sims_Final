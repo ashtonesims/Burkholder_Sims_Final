{
 "cells": [
  {
   "cell_type": "markdown",
   "id": "89c2c403",
   "metadata": {},
   "source": [
    "# **Introduction**\n",
    "\n",
    "In this project, our goal is to create a model inspired by Mark Bakker's study, *Simple Groundwater Flow Models For Seawater Intrusion*. Bakker models seawater intrusion in coastal aquifers based off three main characteristics:\n",
    "1) Groundwater flow is primarly horizontal.\n",
    "2) The density differences between freshwater and seawater is small (no more than 2.5%).\n",
    "3) The time period we are focusing on is small (no more than 100 years).\n",
    "\n",
    "These points are important to note in order to have a more simplified approach that can be applied in engineering problems in coastal aquifers.\n",
    "\n",
    "The main theme of this study is understanding the intrusion of seawater into freshwater sources. This is very important topic to understand because it is something that impacts all of us. First, groundwater is a water source that is largely used by people for drinking or showering for example. Accoriding to an article, \"Climate Adaptation and Saltwater Intrusion\" published by the United States Environmental Protection Agency, as sea levels rise, the risk of saltwater intrusion in groundwater, coastal aquifers increases. As a result, the need for water treatment increases, which can be costly. This entails relocating water intakes, developing new or alternative fresh water sources, or needing water treatment tools. These solutions would be vital because saltwater intrusion causes the freshwater sources to greatly diminish in quality and availability, which leads to these water sources to being unusable. This is a serious matter that effects large populations, and a study such as Bakker's opens the door for engineering solutions to understand and prevent such intrusions. Secondly, saltwater intrusion poses a concerning threat on coastal agricuture. The U.S. Department of Agriculture writes in an article, \"Saltwater Intrusion: A Growing Threat to Coastal Agriculture\", that a large amount of coastal farmlands are lost yearly due to saltwater intrusion because land becomes too wet and salty for crops to survive on, which can be seen in Image 1. This can have a large impact on populations who mainly rely on these lands for food and farmers who rely on the land to grow crops and make money. Ultimately, this concept is important to have an understanding of so we can create solutions that prevent disasters that effect people and their livelihoods.\n",
    "\n",
    "Bakker's study specifically states that this is a \"simple\" approach towards modeling seawater intrusion. Given this, our model utilizies more assumptions than other studies on this topic. For example, we assume point 2) from above, that the difference in densities between freshwater and seawater is very small. However, researchers at the Institute for Environmental Research and Sustainable Development, conducted a study called *Efficient Stochastic Simulation of Seawater Intrusion, With Mixing, in Confined Coastal Aquifers*, where they take into account a buoyancy factor, which is calculated using the seawater and freshwater densities. Saltwater density varies in different locations around the world, so by taking into account this factor, their results will be more accurate and tailored towards specific locations. However, we do not take this into account in our model, so we model have a more general and simplified model that is not specific to any region. Secondly, in this project we implement the forward euler method for diffusion equations. However, other studies use other methods and equations that go beyond the scope of this course. For example, *Mathematical models for saltwater intrusion in coastal aquifers* by A.G. Bobba discusses a variety of models that are used for saltwater intrusion problems. Some of these models include, Glovers Model, Charmonman's Solution, Models using Hodograph Techniques, Stratified Aquifer Models, etc. These are very specific models tailored towards certain problems. In our case, we want to create a more general model that can apply to a variety of scenarios, but some research has shown us that there is an extensive selection of models that target more specialized scenarios that require a more accurate result.\n",
    "\n",
    "\n",
    "\n",
    "Image 1: Seawater Intrustion affecting Crops (U.S. Department of Agriculture)\n"
   ]
  },
  {
   "cell_type": "markdown",
   "id": "02374b0d",
   "metadata": {},
   "source": [
    "# **Equations**\n",
    "\n",
    "The fundamental process considered in this project is the intrusion of saltwater in aquifers. This can be caused by a variety of reasons. Normally, freshwater flows underground towards the ocean, which prevents seawater from going into coastal aquifers. However, when too much water is pumped out from the aquifer, then the lower water levels cause seawater to flow inland. Droughts can also cause seawater to flow inland and leading to this intrusion of saltwater in aquifers. When sea levels rise, lower elevation coasts then experience this seawater intrusion process. Image 2 is a nice representation of how saltwater intrusion occurs in aquifers. We created this model as an attempt to simulate and describe this process over a 100 year period and reaches a steady state at 500 years. In this simulation, freshwater is extracted from a ditch and we are focused on a the interface that is 590 meters from the coastline. As freshwater is pumped out from the ditch, the interface moves position. As more time passes and the interface continues to move, it eventually reaches its steady state position.\n",
    "\n",
    "![image-2.png](attachment:image-2.png)\n",
    "\n",
    "Image 2: Seawater Intrusion Process (Florida Museum: Thompson Earth Systems Institute)\n",
    "\n",
    "\n",
    "We are mainly concerned with simultaneously solving equations (1) and (2) to understand the change in the interface position. Equation (1) is the differentiated discharge vector, which represents the interface flow of water in the vertical cross section. The presence of the interface explains the subtraction of the last term in the equation. Equation (2) is the differentiated salt discharge vector, which represents the movement of the interface. Equation (1) is derived from the discharge vector (Image 3). Then, the Boussinesq approximation makes the mass balance equation be replaced by a volume balance, so the divergence of the discharge vector equals the total inflow. Differentiating this results in equation (1). Equation (2) is derived from the continuity equation for flow in the saltwater, which is integrated for the salt discharge. Then, we get the divergence of salt discharge from Image 4 and differentiating it produces equation (2). We are solving for zeta, which is the position of the interface during upconing.\n",
    "\n",
    "Image 3\n",
    "\n",
    "![image-4.png](attachment:image-4.png)\n",
    "Image 4\n",
    "\n",
    "\n",
    "All of our terms, parameters, initial coniditions, and boundary conditions are defined and described in our code below along with their units if specified in the paper. We decided to set the storage coefficient, S, as the average porposity of soil, which generalizes our model more. The value of the infiltration of freshwater, N, was not specified in the paper. So we decided to set N equal to 0 in order to simplify our solution. Additionally, we used the equation from Image 5 to find our initial boundary condition of zeta, which is the position of the interface. We used the same equation to describe the initial boundary conditions for flow when water is pumped from the ditch. Lastly, Image 6 shows the steady state of the interface, meaning the change in position of the interface with respect to time is 0.\n",
    "\n",
    "Image 5\n",
    "\n",
    "![image-6.png](attachment:image-6.png)\n",
    "Image 6\n",
    "\n",
    "The assumptions we make are described by the first three bullet points outlined in the introduction (the same as the assumptions from the paper). These assumptions simplify the problem and allows for the problem to be generalized to a wider range of scenarios."
   ]
  },
  {
   "cell_type": "markdown",
   "id": "d683a5a2",
   "metadata": {},
   "source": [
    "# **Numerical Methods**\n",
    "\n",
    "The numerical method we chose to implement was Foward Euler Diffusion and we used Dirichlet boundary conditions. We began by importing the necessary packages and tools and defining parameters and initial conditions. Then, we defined the initial boundary conditions. Then, we discretized equations (1) and (2) in order to create our matrices. We then set the boundary conditions for both zeta and h. We solved \n",
    "\n",
    "We decided to use this numerical method because Bakker used a block-centered finite difference scheme, which the two are fairly similar. Forward Euler provided a fairly simple approach to solving these partial differential equations."
   ]
  },
  {
   "cell_type": "code",
   "execution_count": null,
   "id": "7a433be9",
   "metadata": {},
   "outputs": [],
   "source": [
    "#Importing tools\n",
    "import numpy as np\n",
    "import matplotlib.pyplot as plt\n",
    "import math\n",
    "from mpl_toolkits import mplot3d\n",
    "import pandas as pd\n",
    "import csv\n",
    "from sympy import Derivative\n",
    "import scipy"
   ]
  },
  {
   "cell_type": "code",
   "execution_count": 3,
   "id": "d5936e0a",
   "metadata": {},
   "outputs": [],
   "source": [
    "# Parameters\n",
    "\n",
    "k = 2       #m/d, hydraulic conductivity of freshwater\n",
    "n = 0.2     #effective porosity\n",
    "S = 0.01    #storage coefficient, porosity of average soil\n",
    "H = 45      #m, thickness of aquifer\n",
    "zb = -45    #m, bottom of aquifer\n",
    "zt = 0      #m, top of aquifer\n",
    "L = 1000    #m, length of the cross section\n",
    "W = 1       #m, width of the cross-section normal to the plane of flow\n",
    "vs = 0.025  #dimensionless density\n",
    "dis = 590   #m, distance of ditch from coastline\n",
    "x0 = 0      #m, coastline\n",
    "tf = 182500 #days in 500 yrs\n",
    "dt = 365/2  #days, time step\n",
    "\n",
    "h0 = 0.05   #m, head in the freshwater zone at x=0 m\n",
    "\n",
    "N = 0       #infiltration of freshwater\n",
    "\n",
    "T = k*(zt-zb) #transmissivity\n",
    "tau = k*vs*(zt-zb) #salt transmissivity\n",
    "\n",
    "dx = 10     #m, distance time step\n",
    "\n",
    "# Boundary Conditions\n",
    "Q0 = 0.1    #m^2/d, the uniform flow towards the coast\n",
    "zeta0 = -Q0/(k*vs)  #initial boundary condition at the coast\n",
    "\n",
    "Q0d = 0.05  #m^2/d, flow when water is pumped from the ditch\n",
    "zeta0d = -Q0d/(k*vs) #initial boundary condition at the coast when water is pumped from ditch\n",
    "\n",
    "# Steady state\n",
    "zetaf = -h0/vs\n",
    "\n",
    "\n",
    "#discretizing\n",
    "t = np.linspace(0,36500,500)    #100 years in days time stepped by 182.5 days\n",
    "x = np.linspace(0,L,L+1)        #m, cross section\n",
    "z = np.linspace(zb,zt,500)      #m, depth of aquifer"
   ]
  },
  {
   "cell_type": "markdown",
   "id": "987ba3a2",
   "metadata": {},
   "source": [
    "# **References**\n",
    "\n",
    "\n",
    "https://www.epa.gov/arc-x/climate-adaptation-and-saltwater-intrusion#:~:text=Saltwater%20intrusion%20can%20result%20in,waters%20for%20drinking%20water%20utilities.\n",
    "\n",
    "\n",
    "\n",
    "https://www.climatehubs.usda.gov/hubs/northeast/topic/saltwater-intrusion-growing-threat-coastal-agriculture\n",
    "\n",
    "\n",
    "https://www.frontiersin.org/journals/water/articles/10.3389/frwa.2021.720557/full\n",
    "\n",
    "\n",
    "https://link.springer.com/article/10.1007/BF00872240\n",
    "\n",
    "https://www.floridamuseum.ufl.edu/earth-systems/blog/tell-me-about-saltwater-intrusion-in-florida/"
   ]
  }
 ],
 "metadata": {
  "kernelspec": {
   "display_name": "Python 3 (ipykernel)",
   "language": "python",
   "name": "python3"
  },
  "language_info": {
   "codemirror_mode": {
    "name": "ipython",
    "version": 3
   },
   "file_extension": ".py",
   "mimetype": "text/x-python",
   "name": "python",
   "nbconvert_exporter": "python",
   "pygments_lexer": "ipython3",
   "version": "3.10.13"
  }
 },
 "nbformat": 4,
 "nbformat_minor": 5
}
